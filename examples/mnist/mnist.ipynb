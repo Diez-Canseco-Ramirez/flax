{
 "nbformat": 4,
 "nbformat_minor": 0,
 "metadata": {
  "orig_nbformat": 2,
  "colab": {
   "name": "mnist.ipynb",
   "provenance": [],
   "toc_visible": true
  },
  "kernelspec": {
   "name": "python3",
   "display_name": "Python 3"
  },
  "accelerator": "GPU",
  "widgets": {
   "application/vnd.jupyter.widget-state+json": {
    "1c176027dbbf459b8ed946ccc58de845": {
     "model_module": "@jupyter-widgets/controls",
     "model_name": "HBoxModel",
     "state": {
      "_view_name": "HBoxView",
      "_dom_classes": [],
      "_model_name": "HBoxModel",
      "_view_module": "@jupyter-widgets/controls",
      "_model_module_version": "1.5.0",
      "_view_count": null,
      "_view_module_version": "1.5.0",
      "box_style": "",
      "layout": "IPY_MODEL_86a963ed7ea34c6f8bf5bc7501566dfc",
      "_model_module": "@jupyter-widgets/controls",
      "children": [
       "IPY_MODEL_912699eb6a0f4b90939a711967cdba4a",
       "IPY_MODEL_d430019fdeab48b88ee6a40896c4f473"
      ]
     }
    },
    "86a963ed7ea34c6f8bf5bc7501566dfc": {
     "model_module": "@jupyter-widgets/base",
     "model_name": "LayoutModel",
     "state": {
      "_view_name": "LayoutView",
      "grid_template_rows": null,
      "right": null,
      "justify_content": null,
      "_view_module": "@jupyter-widgets/base",
      "overflow": null,
      "_model_module_version": "1.2.0",
      "_view_count": null,
      "flex_flow": null,
      "width": null,
      "min_width": null,
      "border": null,
      "align_items": null,
      "bottom": null,
      "_model_module": "@jupyter-widgets/base",
      "top": null,
      "grid_column": null,
      "overflow_y": null,
      "overflow_x": null,
      "grid_auto_flow": null,
      "grid_area": null,
      "grid_template_columns": null,
      "flex": null,
      "_model_name": "LayoutModel",
      "justify_items": null,
      "grid_row": null,
      "max_height": null,
      "align_content": null,
      "visibility": null,
      "align_self": null,
      "height": null,
      "min_height": null,
      "padding": null,
      "grid_auto_rows": null,
      "grid_gap": null,
      "max_width": null,
      "order": null,
      "_view_module_version": "1.2.0",
      "grid_template_areas": null,
      "object_position": null,
      "object_fit": null,
      "grid_auto_columns": null,
      "margin": null,
      "display": null,
      "left": null
     }
    },
    "912699eb6a0f4b90939a711967cdba4a": {
     "model_module": "@jupyter-widgets/controls",
     "model_name": "FloatProgressModel",
     "state": {
      "_view_name": "ProgressView",
      "style": "IPY_MODEL_8b1682fdce7e45dbb57351d19ea0bd99",
      "_dom_classes": [],
      "description": "Dl Completed...: 100%",
      "_model_name": "FloatProgressModel",
      "bar_style": "success",
      "max": 4,
      "_view_module": "@jupyter-widgets/controls",
      "_model_module_version": "1.5.0",
      "value": 4,
      "_view_count": null,
      "_view_module_version": "1.5.0",
      "orientation": "horizontal",
      "min": 0,
      "description_tooltip": null,
      "_model_module": "@jupyter-widgets/controls",
      "layout": "IPY_MODEL_c4416dac612e4a4280e812831ff8561d"
     }
    },
    "d430019fdeab48b88ee6a40896c4f473": {
     "model_module": "@jupyter-widgets/controls",
     "model_name": "HTMLModel",
     "state": {
      "_view_name": "HTMLView",
      "style": "IPY_MODEL_b2eb6d91f1a048a5aa78f14431181912",
      "_dom_classes": [],
      "description": "",
      "_model_name": "HTMLModel",
      "placeholder": "​",
      "_view_module": "@jupyter-widgets/controls",
      "_model_module_version": "1.5.0",
      "value": " 4/4 [00:12&lt;00:00,  3.04s/ file]",
      "_view_count": null,
      "_view_module_version": "1.5.0",
      "description_tooltip": null,
      "_model_module": "@jupyter-widgets/controls",
      "layout": "IPY_MODEL_137a8d473de04041b29d685344354c3f"
     }
    },
    "8b1682fdce7e45dbb57351d19ea0bd99": {
     "model_module": "@jupyter-widgets/controls",
     "model_name": "ProgressStyleModel",
     "state": {
      "_view_name": "StyleView",
      "_model_name": "ProgressStyleModel",
      "description_width": "initial",
      "_view_module": "@jupyter-widgets/base",
      "_model_module_version": "1.5.0",
      "_view_count": null,
      "_view_module_version": "1.2.0",
      "bar_color": null,
      "_model_module": "@jupyter-widgets/controls"
     }
    },
    "c4416dac612e4a4280e812831ff8561d": {
     "model_module": "@jupyter-widgets/base",
     "model_name": "LayoutModel",
     "state": {
      "_view_name": "LayoutView",
      "grid_template_rows": null,
      "right": null,
      "justify_content": null,
      "_view_module": "@jupyter-widgets/base",
      "overflow": null,
      "_model_module_version": "1.2.0",
      "_view_count": null,
      "flex_flow": null,
      "width": null,
      "min_width": null,
      "border": null,
      "align_items": null,
      "bottom": null,
      "_model_module": "@jupyter-widgets/base",
      "top": null,
      "grid_column": null,
      "overflow_y": null,
      "overflow_x": null,
      "grid_auto_flow": null,
      "grid_area": null,
      "grid_template_columns": null,
      "flex": null,
      "_model_name": "LayoutModel",
      "justify_items": null,
      "grid_row": null,
      "max_height": null,
      "align_content": null,
      "visibility": null,
      "align_self": null,
      "height": null,
      "min_height": null,
      "padding": null,
      "grid_auto_rows": null,
      "grid_gap": null,
      "max_width": null,
      "order": null,
      "_view_module_version": "1.2.0",
      "grid_template_areas": null,
      "object_position": null,
      "object_fit": null,
      "grid_auto_columns": null,
      "margin": null,
      "display": null,
      "left": null
     }
    },
    "b2eb6d91f1a048a5aa78f14431181912": {
     "model_module": "@jupyter-widgets/controls",
     "model_name": "DescriptionStyleModel",
     "state": {
      "_view_name": "StyleView",
      "_model_name": "DescriptionStyleModel",
      "description_width": "",
      "_view_module": "@jupyter-widgets/base",
      "_model_module_version": "1.5.0",
      "_view_count": null,
      "_view_module_version": "1.2.0",
      "_model_module": "@jupyter-widgets/controls"
     }
    },
    "137a8d473de04041b29d685344354c3f": {
     "model_module": "@jupyter-widgets/base",
     "model_name": "LayoutModel",
     "state": {
      "_view_name": "LayoutView",
      "grid_template_rows": null,
      "right": null,
      "justify_content": null,
      "_view_module": "@jupyter-widgets/base",
      "overflow": null,
      "_model_module_version": "1.2.0",
      "_view_count": null,
      "flex_flow": null,
      "width": null,
      "min_width": null,
      "border": null,
      "align_items": null,
      "bottom": null,
      "_model_module": "@jupyter-widgets/base",
      "top": null,
      "grid_column": null,
      "overflow_y": null,
      "overflow_x": null,
      "grid_auto_flow": null,
      "grid_area": null,
      "grid_template_columns": null,
      "flex": null,
      "_model_name": "LayoutModel",
      "justify_items": null,
      "grid_row": null,
      "max_height": null,
      "align_content": null,
      "visibility": null,
      "align_self": null,
      "height": null,
      "min_height": null,
      "padding": null,
      "grid_auto_rows": null,
      "grid_gap": null,
      "max_width": null,
      "order": null,
      "_view_module_version": "1.2.0",
      "grid_template_areas": null,
      "object_position": null,
      "object_fit": null,
      "grid_auto_columns": null,
      "margin": null,
      "display": null,
      "left": null
     }
    }
   }
  },
  "language_info": {
   "name": "python"
  }
 },
 "cells": [
  {
   "cell_type": "markdown",
   "metadata": {
    "id": "wquAnPg0p4Y8"
   },
   "source": [
    "# Flax MNIST Example\n",
    "\n",
    "<a href=\"https://colab.research.google.com/github/google/flax/blob/main/examples/mnist/mnist.ipynb\" ><img src=\"https://colab.research.google.com/assets/colab-badge.svg\" alt=\"Open In Colab\"/></a>\n",
    "\n",
    "Demonstration notebook for\n",
    "https://github.com/google/flax/tree/main/examples/mnist\n",
    "\n",
    "If you're looking for an **annotated** version of Flax MNIST\n",
    "https://colab.research.google.com/github/google/flax/blob/main/docs/notebooks/annotated_mnist.ipynb"
   ]
  },
  {
   "cell_type": "markdown",
   "metadata": {
    "id": "UuqrLz3he_1M"
   },
   "source": [
    "The **Flax Notebook Workflow**:\n",
    "\n",
    "1. Run the entire notebook end-to-end and check out the outputs.\n",
    "   - This will open Python files in the right-hand editor!\n",
    "   - You'll be able to interactively explore metrics in TensorBoard.\n",
    "2. Change `config` and train for different hyperparameters. Check out the\n",
    "   updated TensorBoard plots.\n",
    "3. Update the code in `train.py`. Thanks to `%autoreload`, any changes you\n",
    "   make in the file will automatically appear in the notebook. Some ideas to\n",
    "   get you started:\n",
    "   - Change the model.\n",
    "   - Log some per-batch metrics during training.\n",
    "   - Add new hyperparameters to `configs/default.py` and use them in\n",
    "     `train.py`.\n",
    "4. At any time, feel free to paste code from `train.py` into the notebook\n",
    "   and modify it directly there!"
   ]
  },
  {
   "cell_type": "markdown",
   "metadata": {
    "id": "2cMTM3W4hcsZ"
   },
   "source": [
    "## Setup"
   ]
  },
  {
   "cell_type": "code",
   "metadata": {
    "id": "xVAH-aWN3NzF",
    "colab": {
     "base_uri": "https://localhost:8080/"
    },
    "outputId": "8520b2f8-2b9d-4216-ba1f-d96175455bbc"
   },
   "source": [
    "# Install ml-collections & latest Flax version from Github.\n",
    "!pip install -q ml-collections git+https://github.com/google/flax"
   ],
   "execution_count": 63,
   "outputs": []
  },
  {
   "cell_type": "code",
   "metadata": {
    "id": "SwX8bCNEGhJM",
    "tags": []
   },
   "source": [
    "example_directory = 'examples/mnist'\n",
    "editor_relpaths = ('configs/default.py', 'train.py')\n",
    "\n",
    "repo, branch = 'https://github.com/google/flax', 'main'"
   ],
   "execution_count": 64,
   "outputs": []
  },
  {
   "cell_type": "code",
   "metadata": {
    "id": "o65RonwHp4Y9",
    "cellView": "form",
    "outputId": "2dfbdfa6-d213-4b5b-dc82-ee1765705255",
    "colab": {
     "base_uri": "https://localhost:8080/",
     "height": 193
    }
   },
   "source": [
    "# (If you run this code in Jupyter[lab], then you're already in the\n",
    "#  example directory and nothing needs to be done.)\n",
    "\n",
    "#@markdown **Fetch newest Flax, copy example code**\n",
    "#@markdown\n",
    "#@markdown **If you select no** below, then the files will be stored on the\n",
    "#@markdown *ephemeral* Colab VM. **After some time of inactivity, this VM will\n",
    "#@markdown be restarted an any changes are lost**.\n",
    "#@markdown\n",
    "#@markdown **If you select yes** below, then you will be asked for your\n",
    "#@markdown credentials to mount your personal Google Drive. In this case, all\n",
    "#@markdown changes you make will be *persisted*, and even if you re-run the\n",
    "#@markdown Colab later on, the files will still be the same (you can of course\n",
    "#@markdown remove directories inside your Drive's `flax/` root if you want to\n",
    "#@markdown manually revert these files).\n",
    "\n",
    "if 'google.colab' in str(get_ipython()):\n",
    "  import os\n",
    "  os.chdir('/content')\n",
    "  # Download Flax repo from Github.\n",
    "  if not os.path.isdir('flaxrepo'):\n",
    "    !git clone --depth=1 -b $branch $repo flaxrepo\n",
    "  # Copy example files & change directory.\n",
    "  mount_gdrive = 'no' #@param ['yes', 'no']\n",
    "  if mount_gdrive == 'yes':\n",
    "    DISCLAIMER = 'Note : Editing in your Google Drive, changes will persist.'\n",
    "    from google.colab import drive\n",
    "    drive.mount('/content/gdrive')\n",
    "    example_root_path = f'/content/gdrive/My Drive/flax/{example_directory}'\n",
    "  else:\n",
    "    DISCLAIMER = 'WARNING : Editing in VM - changes lost after reboot!!'\n",
    "    example_root_path = f'/content/{example_directory}'\n",
    "    from IPython import display\n",
    "    display.display(display.HTML(\n",
    "        f'<h1 style=\"color:red;\" class=\"blink\">{DISCLAIMER}</h1>'))\n",
    "  if not os.path.isdir(example_root_path):\n",
    "    os.makedirs(example_root_path)\n",
    "    !cp -r flaxrepo/$example_directory/* \"$example_root_path\"\n",
    "  os.chdir(example_root_path)\n",
    "  from google.colab import files\n",
    "  for relpath in editor_relpaths:\n",
    "    s = open(f'{example_root_path}/{relpath}').read()\n",
    "    open(f'{example_root_path}/{relpath}', 'w').write(\n",
    "        f'## {DISCLAIMER}\\n' + '#' * (len(DISCLAIMER) + 3) + '\\n\\n' + s)\n",
    "    files.view(f'{example_root_path}/{relpath}')"
   ],
   "execution_count": 65,
   "outputs": []
  },
  {
   "cell_type": "code",
   "metadata": {
    "id": "xcXZ-F3_zBuJ",
    "colab": {
     "base_uri": "https://localhost:8080/"
    },
    "outputId": "e9061488-ac3e-4d23-f24f-06e1988e7541"
   },
   "source": [
    "# Note : In Colab, above cell changed the working directory.\n",
    "!pwd"
   ],
   "execution_count": 66,
   "outputs": [
    {
     "name": "stdout",
     "output_type": "stream",
     "text": [
      "/mnt/pycharmprojects/flax/examples/mnist\r\n"
     ]
    }
   ]
  },
  {
   "cell_type": "markdown",
   "metadata": {
    "id": "Tt0rL4ycp4ZB"
   },
   "source": [
    "## Imports / Helpers"
   ]
  },
  {
   "cell_type": "code",
   "metadata": {
    "id": "EdzHCJuop4ZB"
   },
   "source": [
    "from absl import logging\n",
    "import flax\n",
    "import jax.numpy as jnp\n",
    "from matplotlib import pyplot as plt\n",
    "import numpy as np\n",
    "import tensorflow_datasets as tfds\n",
    "\n",
    "logging.set_verbosity(logging.INFO)"
   ],
   "execution_count": 67,
   "outputs": []
  },
  {
   "cell_type": "code",
   "metadata": {
    "id": "7O2C7AY3p4ZF"
   },
   "source": [
    "# Helper functions for images.\n",
    "\n",
    "def show_img(img, ax=None, title=None):\n",
    "  \"\"\"Shows a single image.\"\"\"\n",
    "  if ax is None:\n",
    "    ax = plt.gca()\n",
    "  ax.imshow(img[..., 0], cmap='gray')\n",
    "  ax.set_xticks([])\n",
    "  ax.set_yticks([])\n",
    "  if title:\n",
    "    ax.set_title(title)\n",
    "\n",
    "def show_img_grid(imgs, titles):\n",
    "  \"\"\"Shows a grid of images.\"\"\"\n",
    "  n = int(np.ceil(len(imgs)**.5))\n",
    "  _, axs = plt.subplots(n, n, figsize=(3 * n, 3 * n))\n",
    "  for i, (img, title) in enumerate(zip(imgs, titles)):\n",
    "    show_img(img, axs[i // n][i % n], title)"
   ],
   "execution_count": 68,
   "outputs": []
  },
  {
   "cell_type": "code",
   "metadata": {
    "tags": [],
    "id": "6Y1ru2Ovp4ZI"
   },
   "source": [
    "# Local imports from current directory - auto reload.\n",
    "# Any changes you make to train.py will appear automatically.\n",
    "%load_ext autoreload\n",
    "%autoreload 2\n",
    "import train\n",
    "from configs import default as config_lib\n",
    "config = config_lib.get_config()"
   ],
   "execution_count": 69,
   "outputs": [
    {
     "name": "stdout",
     "output_type": "stream",
     "text": [
      "The autoreload extension is already loaded. To reload it, use:\n",
      "  %reload_ext autoreload\n"
     ]
    }
   ]
  },
  {
   "cell_type": "markdown",
   "metadata": {
    "id": "gGi7zcRpp4ZL"
   },
   "source": [
    "## Dataset"
   ]
  },
  {
   "cell_type": "code",
   "metadata": {
    "tags": [],
    "id": "BRg0rNsJp4ZL",
    "colab": {
     "base_uri": "https://localhost:8080/",
     "height": 358,
     "referenced_widgets": [
      "1c176027dbbf459b8ed946ccc58de845",
      "86a963ed7ea34c6f8bf5bc7501566dfc",
      "912699eb6a0f4b90939a711967cdba4a",
      "d430019fdeab48b88ee6a40896c4f473",
      "8b1682fdce7e45dbb57351d19ea0bd99",
      "c4416dac612e4a4280e812831ff8561d",
      "b2eb6d91f1a048a5aa78f14431181912",
      "137a8d473de04041b29d685344354c3f"
     ]
    },
    "outputId": "bb4525f4-8ca4-4e9d-d1cc-48a3e0533645"
   },
   "source": [
    "# Get datasets as dict of JAX arrays.\n",
    "train_ds, test_ds = train.get_datasets()"
   ],
   "execution_count": 70,
   "outputs": [
    {
     "ename": "AttributeError",
     "evalue": "module 'tensorflow_datasets' has no attribute 'builder'",
     "output_type": "error",
     "traceback": [
      "\u001B[0;31m---------------------------------------------------------------------------\u001B[0m",
      "\u001B[0;31mAttributeError\u001B[0m                            Traceback (most recent call last)",
      "Cell \u001B[0;32mIn[70], line 2\u001B[0m\n\u001B[1;32m      1\u001B[0m \u001B[38;5;66;03m# Get datasets as dict of JAX arrays.\u001B[39;00m\n\u001B[0;32m----> 2\u001B[0m train_ds, test_ds \u001B[38;5;241m=\u001B[39m \u001B[43mtrain\u001B[49m\u001B[38;5;241;43m.\u001B[39;49m\u001B[43mget_datasets\u001B[49m\u001B[43m(\u001B[49m\u001B[43m)\u001B[49m\n",
      "File \u001B[0;32m/mnt/pycharmprojects/flax/examples/mnist/train.py:100\u001B[0m, in \u001B[0;36mget_datasets\u001B[0;34m()\u001B[0m\n\u001B[1;32m     98\u001B[0m \u001B[38;5;28;01mdef\u001B[39;00m \u001B[38;5;21mget_datasets\u001B[39m():\n\u001B[1;32m     99\u001B[0m \u001B[38;5;250m  \u001B[39m\u001B[38;5;124;03m\"\"\"Load MNIST train and test datasets into memory.\"\"\"\u001B[39;00m\n\u001B[0;32m--> 100\u001B[0m   ds_builder \u001B[38;5;241m=\u001B[39m \u001B[43mtfds\u001B[49m\u001B[38;5;241;43m.\u001B[39;49m\u001B[43mbuilder\u001B[49m(\u001B[38;5;124m'\u001B[39m\u001B[38;5;124mmnist\u001B[39m\u001B[38;5;124m'\u001B[39m)\n\u001B[1;32m    101\u001B[0m   ds_builder\u001B[38;5;241m.\u001B[39mdownload_and_prepare()\n\u001B[1;32m    102\u001B[0m   train_ds \u001B[38;5;241m=\u001B[39m tfds\u001B[38;5;241m.\u001B[39mas_numpy(ds_builder\u001B[38;5;241m.\u001B[39mas_dataset(split\u001B[38;5;241m=\u001B[39m\u001B[38;5;124m'\u001B[39m\u001B[38;5;124mtrain\u001B[39m\u001B[38;5;124m'\u001B[39m, batch_size\u001B[38;5;241m=\u001B[39m\u001B[38;5;241m-\u001B[39m\u001B[38;5;241m1\u001B[39m))\n",
      "\u001B[0;31mAttributeError\u001B[0m: module 'tensorflow_datasets' has no attribute 'builder'"
     ]
    }
   ]
  },
  {
   "cell_type": "code",
   "metadata": {
    "id": "B0LgjT3Vp4ZP",
    "colab": {
     "base_uri": "https://localhost:8080/",
     "height": 866
    },
    "outputId": "89de05b0-aede-414f-cf43-5e7c71871140"
   },
   "source": [
    "show_img_grid(\n",
    "    [train_ds['image'][idx] for idx in range(25)],\n",
    "    [f'label={train_ds[\"label\"][idx]}' for idx in range(25)],\n",
    ")"
   ],
   "execution_count": null,
   "outputs": []
  },
  {
   "cell_type": "markdown",
   "metadata": {
    "id": "KqW8WP5bp4ZS"
   },
   "source": [
    "## Training"
   ]
  },
  {
   "cell_type": "code",
   "metadata": {
    "id": "zzBxSXGGyEfw"
   },
   "source": [
    "# Get a live update during training - use the \"refresh\" button!\n",
    "# (In Jupyter[lab] start \"tensorboard\" in the local directory instead.)\n",
    "if 'google.colab' in str(get_ipython()):\n",
    "  %load_ext tensorboard\n",
    "  %tensorboard --logdir=."
   ],
   "execution_count": null,
   "outputs": []
  },
  {
   "cell_type": "code",
   "metadata": {
    "tags": [],
    "id": "RHoBUKSkp4ZS",
    "colab": {
     "base_uri": "https://localhost:8080/"
    },
    "outputId": "a0eb78b5-ee73-4f4f-8400-41b521f42b75"
   },
   "source": [
    "# 3x 3 epochs trains in ~1 minute in the GPU Colab...\n",
    "\n",
    "# We don't use TPUs in this Colab because we do not distribute our\n",
    "# training using pmap() - if you're looking for an example using TPUs\n",
    "# checkout below Colab:\n",
    "# https://colab.research.google.com/github/google/flax/blob/main/examples/imagenet/imagenet.ipynb\n",
    "\n",
    "config.num_epochs = 3\n",
    "models = {}\n",
    "for momentum in (0.8, 0.9, 0.95):\n",
    "  name = f'momentum={momentum}'\n",
    "  config.momentum = momentum\n",
    "  state = train.train_and_evaluate(config, workdir=f'./models/{name}')\n",
    "  models[name] = state.params"
   ],
   "execution_count": 6,
   "outputs": [
    {
     "ename": "NameError",
     "evalue": "name 'config' is not defined",
     "output_type": "error",
     "traceback": [
      "\u001B[0;31m---------------------------------------------------------------------------\u001B[0m",
      "\u001B[0;31mNameError\u001B[0m                                 Traceback (most recent call last)",
      "Cell \u001B[0;32mIn[6], line 8\u001B[0m\n\u001B[1;32m      1\u001B[0m \u001B[38;5;66;03m# 3x 3 epochs trains in ~1 minute in the GPU Colab...\u001B[39;00m\n\u001B[1;32m      2\u001B[0m \n\u001B[1;32m      3\u001B[0m \u001B[38;5;66;03m# We don't use TPUs in this Colab because we do not distribute our\u001B[39;00m\n\u001B[1;32m      4\u001B[0m \u001B[38;5;66;03m# training using pmap() - if you're looking for an example using TPUs\u001B[39;00m\n\u001B[1;32m      5\u001B[0m \u001B[38;5;66;03m# checkout below Colab:\u001B[39;00m\n\u001B[1;32m      6\u001B[0m \u001B[38;5;66;03m# https://colab.research.google.com/github/google/flax/blob/main/examples/imagenet/imagenet.ipynb\u001B[39;00m\n\u001B[0;32m----> 8\u001B[0m \u001B[43mconfig\u001B[49m\u001B[38;5;241m.\u001B[39mnum_epochs \u001B[38;5;241m=\u001B[39m \u001B[38;5;241m3\u001B[39m\n\u001B[1;32m      9\u001B[0m models \u001B[38;5;241m=\u001B[39m {}\n\u001B[1;32m     10\u001B[0m \u001B[38;5;28;01mfor\u001B[39;00m momentum \u001B[38;5;129;01min\u001B[39;00m (\u001B[38;5;241m0.8\u001B[39m, \u001B[38;5;241m0.9\u001B[39m, \u001B[38;5;241m0.95\u001B[39m):\n",
      "\u001B[0;31mNameError\u001B[0m: name 'config' is not defined"
     ]
    }
   ]
  },
  {
   "cell_type": "code",
   "metadata": {
    "tags": [],
    "id": "mZOKD0Y7p4ZW",
    "cellView": "form"
   },
   "source": [
    "if 'google.colab' in str(get_ipython()):\n",
    "  #@markdown You can upload the training results directly to https://tensorboard.dev\n",
    "  #@markdown\n",
    "  #@markdown Note that everbody with the link will be able to see the data.\n",
    "  upload_data = 'no' #@param ['yes', 'no']\n",
    "  if upload_data == 'yes':\n",
    "    !tensorboard dev upload --one_shot --logdir ./models --name 'Flax examples/mnist'"
   ],
   "execution_count": 12,
   "outputs": []
  },
  {
   "cell_type": "markdown",
   "metadata": {
    "id": "GBh-2D-Wp4ZY"
   },
   "source": [
    "## Inference"
   ]
  },
  {
   "cell_type": "code",
   "metadata": {
    "id": "Q-45FkBLp4ZY",
    "colab": {
     "base_uri": "https://localhost:8080/"
    },
    "outputId": "3af424f7-4433-475d-817c-5c0bbc4599ae"
   },
   "source": [
    "# Find all mistakes in testset.\n",
    "logits = train.CNN().apply({'params': state.params}, test_ds['image'])\n",
    "error_idxs, = jnp.where(test_ds['label'] != logits.argmax(axis=1))\n",
    "len(error_idxs) / len(logits)"
   ],
   "execution_count": 13,
   "outputs": [
    {
     "output_type": "execute_result",
     "data": {
      "text/plain": [
       "0.0126"
      ]
     },
     "metadata": {
      "tags": []
     },
     "execution_count": 13
    }
   ]
  },
  {
   "cell_type": "code",
   "metadata": {
    "id": "xIIvyz8Jp4Zb",
    "colab": {
     "base_uri": "https://localhost:8080/",
     "height": 866
    },
    "outputId": "949487f5-8aa2-45c8-9b54-efbf34ab58f1"
   },
   "source": [
    "# Show some of them.\n",
    "show_img_grid(\n",
    "    [test_ds['image'][idx] for idx in error_idxs[:25]],\n",
    "    [f'pred={logits[idx].argmax()}' for idx in error_idxs[:25]],\n",
    ")"
   ],
   "execution_count": 14,
   "outputs": [
    {
     "output_type": "display_data",
     "data": {
      "image/png": "[encoded data removed]",
      "text/plain": [
       "<Figure size 1080x1080 with 25 Axes>"
      ]
     },
     "metadata": {
      "tags": []
     }
    }
   ]
  }
 ]
}
